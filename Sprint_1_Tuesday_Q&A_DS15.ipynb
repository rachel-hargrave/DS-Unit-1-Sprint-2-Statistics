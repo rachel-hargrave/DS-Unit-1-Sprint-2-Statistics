{
  "nbformat": 4,
  "nbformat_minor": 0,
  "metadata": {
    "colab": {
      "name": "Sprint_1_Tuesday_Q&A_DS15.ipynb",
      "provenance": [],
      "include_colab_link": true
    },
    "kernelspec": {
      "name": "python3",
      "display_name": "Python 3"
    }
  },
  "cells": [
    {
      "cell_type": "markdown",
      "metadata": {
        "id": "view-in-github",
        "colab_type": "text"
      },
      "source": [
        "<a href=\"https://colab.research.google.com/github/rachel-hargrave/DS-Unit-1-Sprint-2-Statistics/blob/master/Sprint_1_Tuesday_Q%26A_DS15.ipynb\" target=\"_parent\"><img src=\"https://colab.research.google.com/assets/colab-badge.svg\" alt=\"Open In Colab\"/></a>"
      ]
    },
    {
      "cell_type": "markdown",
      "metadata": {
        "id": "QTeo_Lf_dnbr",
        "colab_type": "text"
      },
      "source": [
        "# String Quotes\n",
        "\n",
        "In python, it doesn't matter if you use single or double quotes around your strings, they just need to match on either end of the string. "
      ]
    },
    {
      "cell_type": "code",
      "metadata": {
        "id": "9QRF300ecTzQ",
        "colab_type": "code",
        "outputId": "92776ca5-7128-43ad-973e-c8cb168f724c",
        "colab": {
          "base_uri": "https://localhost:8080/",
          "height": 67
        }
      },
      "source": [
        "this_string = \"hello\"\n",
        "\n",
        "other_string = 'hello'\n",
        "\n",
        "print(this_string)\n",
        "print(other_string)\n",
        "\n",
        "print(this_string == other_string)"
      ],
      "execution_count": 0,
      "outputs": [
        {
          "output_type": "stream",
          "text": [
            "hello\n",
            "hello\n",
            "True\n"
          ],
          "name": "stdout"
        }
      ]
    },
    {
      "cell_type": "markdown",
      "metadata": {
        "id": "zcrcw1aReAe0",
        "colab_type": "text"
      },
      "source": [
        "If you want to use quotation marks **within** the string, make sure you use the opposite version to start and end your string.\n",
        "\n",
        "Example: And then Ryan said, \"Hello this is DS15.\"\n",
        "\n",
        "I need single quotes around the outside to avoid clashing with the double quotes on the inside."
      ]
    },
    {
      "cell_type": "code",
      "metadata": {
        "id": "bV36XmzvdxBX",
        "colab_type": "code",
        "outputId": "da85f26c-0eed-41e2-9a08-79442de5432e",
        "colab": {
          "base_uri": "https://localhost:8080/",
          "height": 34
        }
      },
      "source": [
        "ryan_says = 'And then Ryan said, \"Hello this is DS15.\"'\n",
        "\n",
        "ryan_says"
      ],
      "execution_count": 0,
      "outputs": [
        {
          "output_type": "execute_result",
          "data": {
            "text/plain": [
              "'And then Ryan said, \"Hello this is DS15.\"'"
            ]
          },
          "metadata": {
            "tags": []
          },
          "execution_count": 3
        }
      ]
    },
    {
      "cell_type": "markdown",
      "metadata": {
        "id": "iwvBSRNWeUdz",
        "colab_type": "text"
      },
      "source": [
        "or I could reverse it:"
      ]
    },
    {
      "cell_type": "code",
      "metadata": {
        "id": "R3CN2UiPeVcN",
        "colab_type": "code",
        "outputId": "6db92a01-127e-4695-9ada-f05b4b4ebb41",
        "colab": {
          "base_uri": "https://localhost:8080/",
          "height": 34
        }
      },
      "source": [
        "ryan_says = \"And then Ryan said, 'Hello this is DS15.'\"\n",
        "\n",
        "ryan_says"
      ],
      "execution_count": 0,
      "outputs": [
        {
          "output_type": "execute_result",
          "data": {
            "text/plain": [
              "\"And then Ryan said, 'Hello this is DS15.'\""
            ]
          },
          "metadata": {
            "tags": []
          },
          "execution_count": 4
        }
      ]
    },
    {
      "cell_type": "markdown",
      "metadata": {
        "id": "MAq_qtKweeXJ",
        "colab_type": "text"
      },
      "source": [
        "You could also use \"escape characters (\\) on any quote/quotation marks within a string:"
      ]
    },
    {
      "cell_type": "code",
      "metadata": {
        "id": "kXJWYLwHeaxb",
        "colab_type": "code",
        "colab": {}
      },
      "source": [
        "string_with_escape_characters = \"And then Ryan said, \\\"Hello this is DS15.\\\"\""
      ],
      "execution_count": 0,
      "outputs": []
    },
    {
      "cell_type": "markdown",
      "metadata": {
        "id": "JZTHPeojfPbO",
        "colab_type": "text"
      },
      "source": [
        "## Multi-line Strings\n",
        "\n",
        "Use triple quotations marks or triple single quotes"
      ]
    },
    {
      "cell_type": "code",
      "metadata": {
        "id": "MuMwZjanewZi",
        "colab_type": "code",
        "colab": {}
      },
      "source": [
        "''' \n",
        "This string\n",
        "can\n",
        "go\n",
        "across\n",
        "multiple\n",
        "lines\n",
        "''' "
      ],
      "execution_count": 0,
      "outputs": []
    },
    {
      "cell_type": "code",
      "metadata": {
        "id": "2H_TTK2tfZYq",
        "colab_type": "code",
        "outputId": "b6457cb1-cc11-4ff0-c257-ec3cfd87a63c",
        "colab": {
          "base_uri": "https://localhost:8080/",
          "height": 129
        }
      },
      "source": [
        "'this\n",
        "string\n",
        "doesn\\'t\n",
        "work'"
      ],
      "execution_count": 0,
      "outputs": [
        {
          "output_type": "error",
          "ename": "SyntaxError",
          "evalue": "ignored",
          "traceback": [
            "\u001b[0;36m  File \u001b[0;32m\"<ipython-input-6-2958bf177751>\"\u001b[0;36m, line \u001b[0;32m1\u001b[0m\n\u001b[0;31m    ' this\u001b[0m\n\u001b[0m          ^\u001b[0m\n\u001b[0;31mSyntaxError\u001b[0m\u001b[0;31m:\u001b[0m EOL while scanning string literal\n"
          ]
        }
      ]
    },
    {
      "cell_type": "markdown",
      "metadata": {
        "id": "48ECxYkrf4e0",
        "colab_type": "text"
      },
      "source": [
        "## .strip()\n",
        "\n",
        "If nothing is passed into the parenthesis **any** whitespace at the beginning or end of the string will be removed. Whitespace within the string won't be affected."
      ]
    },
    {
      "cell_type": "code",
      "metadata": {
        "id": "46C16nkmfciJ",
        "colab_type": "code",
        "outputId": "569db3c8-1c95-46c4-bacd-3a69291dbd03",
        "colab": {
          "base_uri": "https://localhost:8080/",
          "height": 34
        }
      },
      "source": [
        "\"         my string           \".strip()"
      ],
      "execution_count": 0,
      "outputs": [
        {
          "output_type": "execute_result",
          "data": {
            "text/plain": [
              "'my string'"
            ]
          },
          "metadata": {
            "tags": []
          },
          "execution_count": 9
        }
      ]
    },
    {
      "cell_type": "code",
      "metadata": {
        "id": "bRtMMDXPfkoM",
        "colab_type": "code",
        "outputId": "4c75f1c2-9cf6-4371-d737-ef3022bdbe3a",
        "colab": {
          "base_uri": "https://localhost:8080/",
          "height": 235
        }
      },
      "source": [
        "print(\"\\n \\n \\n \\n \\n \\n my string \\n \\n \\n \\n \\n \\n \")"
      ],
      "execution_count": 0,
      "outputs": [
        {
          "output_type": "stream",
          "text": [
            "\n",
            " \n",
            " \n",
            " \n",
            " \n",
            " \n",
            " my string \n",
            " \n",
            " \n",
            " \n",
            " \n",
            " \n",
            " \n"
          ],
          "name": "stdout"
        }
      ]
    },
    {
      "cell_type": "code",
      "metadata": {
        "id": "rAaiS7pKgJKX",
        "colab_type": "code",
        "outputId": "d3227c7c-8e2d-4346-fbc9-215db667c3b3",
        "colab": {
          "base_uri": "https://localhost:8080/",
          "height": 34
        }
      },
      "source": [
        "\"\\n \\n \\n \\n \\n \\n my string \\n \\n \\n \\n \\n \\n \".strip()"
      ],
      "execution_count": 0,
      "outputs": [
        {
          "output_type": "execute_result",
          "data": {
            "text/plain": [
              "'my string'"
            ]
          },
          "metadata": {
            "tags": []
          },
          "execution_count": 11
        }
      ]
    },
    {
      "cell_type": "code",
      "metadata": {
        "id": "0v36L3zKgMWc",
        "colab_type": "code",
        "outputId": "11821b10-3871-48c7-da82-c851a749ce30",
        "colab": {
          "base_uri": "https://localhost:8080/",
          "height": 34
        }
      },
      "source": [
        "' my string '.strip()"
      ],
      "execution_count": 0,
      "outputs": [
        {
          "output_type": "execute_result",
          "data": {
            "text/plain": [
              "'my string'"
            ]
          },
          "metadata": {
            "tags": []
          },
          "execution_count": 12
        }
      ]
    },
    {
      "cell_type": "markdown",
      "metadata": {
        "id": "1pKwR7GHgW1k",
        "colab_type": "text"
      },
      "source": [
        "## .strip() on a column of string data"
      ]
    },
    {
      "cell_type": "code",
      "metadata": {
        "id": "va_b6umtgO3c",
        "colab_type": "code",
        "outputId": "51dd1d55-263d-4b14-c4a6-5bbd7db9b64a",
        "colab": {
          "base_uri": "https://localhost:8080/",
          "height": 166
        }
      },
      "source": [
        "df = pd.DataFrame({'term': ['36 months', '60 months', '36 months', '60 months'], 'age': [1,2,3,4]})\n",
        "\n",
        "df.head()"
      ],
      "execution_count": 0,
      "outputs": [
        {
          "output_type": "execute_result",
          "data": {
            "text/html": [
              "<div>\n",
              "<style scoped>\n",
              "    .dataframe tbody tr th:only-of-type {\n",
              "        vertical-align: middle;\n",
              "    }\n",
              "\n",
              "    .dataframe tbody tr th {\n",
              "        vertical-align: top;\n",
              "    }\n",
              "\n",
              "    .dataframe thead th {\n",
              "        text-align: right;\n",
              "    }\n",
              "</style>\n",
              "<table border=\"1\" class=\"dataframe\">\n",
              "  <thead>\n",
              "    <tr style=\"text-align: right;\">\n",
              "      <th></th>\n",
              "      <th>term</th>\n",
              "      <th>age</th>\n",
              "    </tr>\n",
              "  </thead>\n",
              "  <tbody>\n",
              "    <tr>\n",
              "      <th>0</th>\n",
              "      <td>36 months</td>\n",
              "      <td>1</td>\n",
              "    </tr>\n",
              "    <tr>\n",
              "      <th>1</th>\n",
              "      <td>60 months</td>\n",
              "      <td>2</td>\n",
              "    </tr>\n",
              "    <tr>\n",
              "      <th>2</th>\n",
              "      <td>36 months</td>\n",
              "      <td>3</td>\n",
              "    </tr>\n",
              "    <tr>\n",
              "      <th>3</th>\n",
              "      <td>60 months</td>\n",
              "      <td>4</td>\n",
              "    </tr>\n",
              "  </tbody>\n",
              "</table>\n",
              "</div>"
            ],
            "text/plain": [
              "        term  age\n",
              "0  36 months    1\n",
              "1  60 months    2\n",
              "2  36 months    3\n",
              "3  60 months    4"
            ]
          },
          "metadata": {
            "tags": []
          },
          "execution_count": 16
        }
      ]
    },
    {
      "cell_type": "code",
      "metadata": {
        "id": "EEfQcMY_gjLZ",
        "colab_type": "code",
        "outputId": "f0ac74be-ffa6-4e95-c06d-f51f2ae499d4",
        "colab": {
          "base_uri": "https://localhost:8080/",
          "height": 67
        }
      },
      "source": [
        "df.dtypes"
      ],
      "execution_count": 0,
      "outputs": [
        {
          "output_type": "execute_result",
          "data": {
            "text/plain": [
              "term    object\n",
              "age      int64\n",
              "dtype: object"
            ]
          },
          "metadata": {
            "tags": []
          },
          "execution_count": 17
        }
      ]
    },
    {
      "cell_type": "code",
      "metadata": {
        "id": "jRT4msBUgm0-",
        "colab_type": "code",
        "outputId": "b1ee541a-8dbd-4726-9079-42c431610846",
        "colab": {
          "base_uri": "https://localhost:8080/",
          "height": 101
        }
      },
      "source": [
        "# stripping whitespace from the column\n",
        "df['term'].str.strip()"
      ],
      "execution_count": 0,
      "outputs": [
        {
          "output_type": "execute_result",
          "data": {
            "text/plain": [
              "0    36 months\n",
              "1    60 months\n",
              "2    36 months\n",
              "3    60 months\n",
              "Name: term, dtype: object"
            ]
          },
          "metadata": {
            "tags": []
          },
          "execution_count": 19
        }
      ]
    },
    {
      "cell_type": "code",
      "metadata": {
        "id": "GlphNfbpgt6J",
        "colab_type": "code",
        "outputId": "5ffc80a0-21e1-4d38-cc60-1186da3320f5",
        "colab": {
          "base_uri": "https://localhost:8080/",
          "height": 101
        }
      },
      "source": [
        "df['term'].str.strip(\" months\")"
      ],
      "execution_count": 0,
      "outputs": [
        {
          "output_type": "execute_result",
          "data": {
            "text/plain": [
              "0    36\n",
              "1    60\n",
              "2    36\n",
              "3    60\n",
              "Name: term, dtype: object"
            ]
          },
          "metadata": {
            "tags": []
          },
          "execution_count": 20
        }
      ]
    },
    {
      "cell_type": "code",
      "metadata": {
        "id": "IOOeBjxag6c9",
        "colab_type": "code",
        "outputId": "b453f734-74b5-41f1-cbc6-c41a4fa76c7e",
        "colab": {
          "base_uri": "https://localhost:8080/",
          "height": 101
        }
      },
      "source": [
        "df['term'].str.strip(\" months\").astype(int)"
      ],
      "execution_count": 0,
      "outputs": [
        {
          "output_type": "execute_result",
          "data": {
            "text/plain": [
              "0    36\n",
              "1    60\n",
              "2    36\n",
              "3    60\n",
              "Name: term, dtype: int64"
            ]
          },
          "metadata": {
            "tags": []
          },
          "execution_count": 21
        }
      ]
    },
    {
      "cell_type": "code",
      "metadata": {
        "id": "8qja1jpWg-XN",
        "colab_type": "code",
        "outputId": "0b5f9c19-e51f-4707-a771-116721f8403e",
        "colab": {
          "base_uri": "https://localhost:8080/",
          "height": 166
        }
      },
      "source": [
        "df['term_nums'] = df['term'].str.strip(\" months\").astype(int)\n",
        "\n",
        "df.head()"
      ],
      "execution_count": 0,
      "outputs": [
        {
          "output_type": "execute_result",
          "data": {
            "text/html": [
              "<div>\n",
              "<style scoped>\n",
              "    .dataframe tbody tr th:only-of-type {\n",
              "        vertical-align: middle;\n",
              "    }\n",
              "\n",
              "    .dataframe tbody tr th {\n",
              "        vertical-align: top;\n",
              "    }\n",
              "\n",
              "    .dataframe thead th {\n",
              "        text-align: right;\n",
              "    }\n",
              "</style>\n",
              "<table border=\"1\" class=\"dataframe\">\n",
              "  <thead>\n",
              "    <tr style=\"text-align: right;\">\n",
              "      <th></th>\n",
              "      <th>term</th>\n",
              "      <th>age</th>\n",
              "      <th>term_nums</th>\n",
              "    </tr>\n",
              "  </thead>\n",
              "  <tbody>\n",
              "    <tr>\n",
              "      <th>0</th>\n",
              "      <td>36 months</td>\n",
              "      <td>1</td>\n",
              "      <td>36</td>\n",
              "    </tr>\n",
              "    <tr>\n",
              "      <th>1</th>\n",
              "      <td>60 months</td>\n",
              "      <td>2</td>\n",
              "      <td>60</td>\n",
              "    </tr>\n",
              "    <tr>\n",
              "      <th>2</th>\n",
              "      <td>36 months</td>\n",
              "      <td>3</td>\n",
              "      <td>36</td>\n",
              "    </tr>\n",
              "    <tr>\n",
              "      <th>3</th>\n",
              "      <td>60 months</td>\n",
              "      <td>4</td>\n",
              "      <td>60</td>\n",
              "    </tr>\n",
              "  </tbody>\n",
              "</table>\n",
              "</div>"
            ],
            "text/plain": [
              "        term  age  term_nums\n",
              "0  36 months    1         36\n",
              "1  60 months    2         60\n",
              "2  36 months    3         36\n",
              "3  60 months    4         60"
            ]
          },
          "metadata": {
            "tags": []
          },
          "execution_count": 22
        }
      ]
    },
    {
      "cell_type": "code",
      "metadata": {
        "id": "B6TUw7TzhEJ1",
        "colab_type": "code",
        "colab": {}
      },
      "source": [
        "# more similar to what we did during lecture\n",
        "def term_to_int(term_string):\n",
        "  return int(term_string.strip(' months'))"
      ],
      "execution_count": 0,
      "outputs": []
    },
    {
      "cell_type": "code",
      "metadata": {
        "id": "sU7Csw-yhZr5",
        "colab_type": "code",
        "outputId": "046bcdfc-bce9-48dc-affd-2613aefa01bd",
        "colab": {
          "base_uri": "https://localhost:8080/",
          "height": 166
        }
      },
      "source": [
        "df['term'] = df['term'].apply(term_to_int)\n",
        "\n",
        "df.head()"
      ],
      "execution_count": 0,
      "outputs": [
        {
          "output_type": "execute_result",
          "data": {
            "text/html": [
              "<div>\n",
              "<style scoped>\n",
              "    .dataframe tbody tr th:only-of-type {\n",
              "        vertical-align: middle;\n",
              "    }\n",
              "\n",
              "    .dataframe tbody tr th {\n",
              "        vertical-align: top;\n",
              "    }\n",
              "\n",
              "    .dataframe thead th {\n",
              "        text-align: right;\n",
              "    }\n",
              "</style>\n",
              "<table border=\"1\" class=\"dataframe\">\n",
              "  <thead>\n",
              "    <tr style=\"text-align: right;\">\n",
              "      <th></th>\n",
              "      <th>term</th>\n",
              "      <th>age</th>\n",
              "      <th>term_nums</th>\n",
              "      <th>term_from_apply</th>\n",
              "    </tr>\n",
              "  </thead>\n",
              "  <tbody>\n",
              "    <tr>\n",
              "      <th>0</th>\n",
              "      <td>36</td>\n",
              "      <td>1</td>\n",
              "      <td>36</td>\n",
              "      <td>36</td>\n",
              "    </tr>\n",
              "    <tr>\n",
              "      <th>1</th>\n",
              "      <td>60</td>\n",
              "      <td>2</td>\n",
              "      <td>60</td>\n",
              "      <td>60</td>\n",
              "    </tr>\n",
              "    <tr>\n",
              "      <th>2</th>\n",
              "      <td>36</td>\n",
              "      <td>3</td>\n",
              "      <td>36</td>\n",
              "      <td>36</td>\n",
              "    </tr>\n",
              "    <tr>\n",
              "      <th>3</th>\n",
              "      <td>60</td>\n",
              "      <td>4</td>\n",
              "      <td>60</td>\n",
              "      <td>60</td>\n",
              "    </tr>\n",
              "  </tbody>\n",
              "</table>\n",
              "</div>"
            ],
            "text/plain": [
              "   term  age  term_nums  term_from_apply\n",
              "0    36    1         36               36\n",
              "1    60    2         60               60\n",
              "2    36    3         36               36\n",
              "3    60    4         60               60"
            ]
          },
          "metadata": {
            "tags": []
          },
          "execution_count": 26
        }
      ]
    },
    {
      "cell_type": "code",
      "metadata": {
        "id": "0URgWyophfon",
        "colab_type": "code",
        "outputId": "ccdf1d80-3b80-4e59-f0a8-1a73bae2122d",
        "colab": {
          "base_uri": "https://localhost:8080/",
          "height": 101
        }
      },
      "source": [
        "df.dtypes"
      ],
      "execution_count": 0,
      "outputs": [
        {
          "output_type": "execute_result",
          "data": {
            "text/plain": [
              "term               int64\n",
              "age                int64\n",
              "term_nums          int64\n",
              "term_from_apply    int64\n",
              "dtype: object"
            ]
          },
          "metadata": {
            "tags": []
          },
          "execution_count": 27
        }
      ]
    },
    {
      "cell_type": "code",
      "metadata": {
        "id": "1QLr41f1hg2g",
        "colab_type": "code",
        "colab": {}
      },
      "source": [
        ""
      ],
      "execution_count": 0,
      "outputs": []
    }
  ]
}